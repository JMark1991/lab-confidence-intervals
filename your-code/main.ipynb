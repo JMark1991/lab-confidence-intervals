{
 "cells": [
  {
   "cell_type": "markdown",
   "metadata": {},
   "source": [
    "# Confidence Intervals"
   ]
  },
  {
   "cell_type": "code",
   "execution_count": 3,
   "metadata": {},
   "outputs": [],
   "source": [
    "from scipy import stats\n",
    "import numpy as np "
   ]
  },
  {
   "cell_type": "markdown",
   "metadata": {},
   "source": [
    "## Challenge 1\n",
    "We want to estimate the average size of the men of a country with a confidence level of 80%. Assuming that the standard deviation of the sizes in the population is 4, get the confidence interval with a sample of men selected randomly, whose heights are:\n",
    "\n",
    "````\n",
    "heights = [167, 167, 168, 168, 168, 169, 171, 172, 173, 175, 175, 175, 177, 182, 195]\n",
    "````\n",
    "\n",
    "**Hint**: function `stats.norm.interval` from `scipy` can help you get through this exercise. "
   ]
  },
  {
   "cell_type": "code",
   "execution_count": 31,
   "metadata": {},
   "outputs": [],
   "source": [
    "std_dev = 4 # of the population\n",
    "\n",
    "heights = [167, 167, 168, 168, 168, 169, 171, 172, 173, 175, 175, 175, 177, 182, 195]\n"
   ]
  },
  {
   "cell_type": "code",
   "execution_count": 33,
   "metadata": {},
   "outputs": [
    {
     "output_type": "execute_result",
     "data": {
      "text/plain": "(172.14308590115726, 174.79024743217607)"
     },
     "metadata": {},
     "execution_count": 33
    }
   ],
   "source": [
    "heights_avg = np.mean(heights)\n",
    "\n",
    "# create a normal dist with the avg of our sample and std_dev = 4\n",
    "normal_dist = stats.norm(loc=heights_avg, scale=std_dev/np.sqrt(len(heights)))\n",
    "\n",
    "# find the 80% confidence interval: alpha=0.8\n",
    "\n",
    "    # .interval(alpha, loc=0, scale=1) -> returns:  Endpoints of the range that contains alpha percent of the distribution\n",
    "\n",
    "    # because it's a sample: stats.norm.interval(alpha, loc=mu, scale=sigma/sqrt(N)) \n",
    "    # N = number of trials (amount of heights in our sample)\n",
    "    \n",
    "alpha = 0.8\n",
    "normal_dist.interval(0.8)"
   ]
  },
  {
   "cell_type": "markdown",
   "metadata": {},
   "source": [
    "## Challenge 2 \n",
    "In a sample of 105 shops selected randomly from an area, we note that 27 of them have had losses in this month. Get an interval for the proportion of businesses in the area with losses to a confidence level of 80% and a confidence level of 90%.\n",
    "\n",
    "**Hint**: function `stats.norm.interval` from `scipy` can help you get through this exercise. "
   ]
  },
  {
   "cell_type": "code",
   "execution_count": 30,
   "metadata": {
    "tags": []
   },
   "outputs": [
    {
     "output_type": "stream",
     "name": "stdout",
     "text": "We can say, with 80% confidence, that the probability of a shop in the city having losses is between 0.202481 and 0.3118\n\nWe can also say, with 90% confidence that the probability of a shop in the city having losses is between 0.186986 and 0.3273\n"
    }
   ],
   "source": [
    "# 1 - having a loss\n",
    "# 0 - having a profit\n",
    "\n",
    "sample = np.concatenate([np.ones(27), np.zeros(105-27)])\n",
    "\n",
    "mean = np.mean(sample)\n",
    "std_dev = np.std(sample)\n",
    "\n",
    "#print('mean: ', mean, '\\nstd_dev: ', std_dev)\n",
    "\n",
    "\n",
    "# confidence interval: 80%\n",
    "conf_interval = stats.norm.interval(alpha=0.8, loc=mean, scale=std_dev/np.sqrt(len(sample)))\n",
    "\n",
    "# confidence interval: 90%\n",
    "conf_interval_90 = stats.norm.interval(alpha=0.9, loc=mean, scale=std_dev/np.sqrt(len(sample)))\n",
    "\n",
    "\n",
    "print(f'We can say, with 80% confidence, that the probability of a shop in the city having losses is between {conf_interval[0]:4g} and {conf_interval[1]:.4g}\\n')\n",
    "\n",
    "print(f'We can also say, with 90% confidence that the probability of a shop in the city having losses is between {conf_interval_90[0]:4g} and {conf_interval_90[1]:.4g}')"
   ]
  },
  {
   "cell_type": "markdown",
   "metadata": {},
   "source": [
    "## Bonus Challenge\n",
    "The error level or sampling error for the first challenge is given by the following expression:\n",
    "$$Error = z_{\\frac{\\alpha}{2}}\\frac{\\sigma}{\\sqrt n}$$\n",
    "Where z represents the value for N(0,1)\n",
    "\n",
    "\n",
    "Suppose that with the previous data of challenge 1, and with a confidence level of\n",
    "99% (that is, almost certainly) we want to estimate the average population size, so that the error level committed is not greater than half a centimeter.\n",
    "\n",
    "#### 1.- Determine what size the selected sample of men should be."
   ]
  },
  {
   "cell_type": "code",
   "execution_count": null,
   "metadata": {},
   "outputs": [],
   "source": [
    "# your code here"
   ]
  },
  {
   "cell_type": "markdown",
   "metadata": {},
   "source": [
    "#### 2.- For the second challenge, we have the following error:\n",
    "$$ Error = z_{\\frac{\\alpha}{2}}\\sqrt{\\frac{p\\times q}{n}} $$\n",
    "#### Determine the sample size required to not exceed an error of 1% with a confidence of 80%."
   ]
  },
  {
   "cell_type": "code",
   "execution_count": null,
   "metadata": {},
   "outputs": [],
   "source": [
    "# your code here"
   ]
  },
  {
   "cell_type": "markdown",
   "metadata": {},
   "source": [
    "## Bonus Challenge\n",
    "\n",
    "Let's consider the following problem:\n",
    "\n",
    "Build a confidence interval of 94% for the real difference between the durations of two brands of spotlights, if a sample of 40 spotlights taken randomly from the first mark gave an average duration of 418 hours, and a sample of 50 bulbs of another brand gave a duration average of 402 hours. The standard deviations of the two\n",
    "populations are 26 hours and 22 hours, respectively.\n",
    "\n",
    "Sometimes, we will be interested in the difference of two different groups of random variables. We can also build a confidence interval for that! We have some different cases regarding the variance but for this specific case (the variance are different and known), we have that:\n",
    "\n",
    "$$\\overline{X} - \\overline{Y}  \\sim N(\\mu_{X} - \\mu_{Y} , \\sqrt{\\frac{\\sigma_{X}^2}{n_X}+\\frac{\\sigma_{Y}^2}{n_Y}})$$\n",
    "\n",
    "Solve the problem with this information."
   ]
  },
  {
   "cell_type": "code",
   "execution_count": null,
   "metadata": {},
   "outputs": [],
   "source": [
    "# your code here"
   ]
  }
 ],
 "metadata": {
  "kernelspec": {
   "display_name": "Python 3.8.2 32-bit",
   "language": "python",
   "name": "python_defaultSpec_1596031729168"
  },
  "language_info": {
   "codemirror_mode": {
    "name": "ipython",
    "version": 3
   },
   "file_extension": ".py",
   "mimetype": "text/x-python",
   "name": "python",
   "nbconvert_exporter": "python",
   "pygments_lexer": "ipython3",
   "version": "3.7.3"
  }
 },
 "nbformat": 4,
 "nbformat_minor": 2
}